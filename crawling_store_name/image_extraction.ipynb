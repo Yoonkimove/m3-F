{
 "cells": [
  {
   "cell_type": "code",
   "execution_count": 3,
   "metadata": {},
   "outputs": [
    {
     "name": "stdout",
     "output_type": "stream",
     "text": [
      "Collecting selenium\n",
      "  Downloading https://files.pythonhosted.org/packages/b0/c9/52390baa8d6b65c3e3b89f522c3a0fcf58f2b4faf37893ef9d97cddde699/selenium-3.14.1-py2.py3-none-any.whl (902kB)\n",
      "Requirement already satisfied: urllib3 in c:\\users\\user\\anaconda3\\lib\\site-packages (from selenium) (1.22)\n",
      "Installing collected packages: selenium\n",
      "Successfully installed selenium-3.14.1\n"
     ]
    }
   ],
   "source": [
    "!pip install selenium"
   ]
  },
  {
   "cell_type": "code",
   "execution_count": 4,
   "metadata": {},
   "outputs": [],
   "source": [
    "from selenium import webdriver"
   ]
  },
  {
   "cell_type": "code",
   "execution_count": 5,
   "metadata": {},
   "outputs": [],
   "source": [
    "driver = webdriver.Chrome('C://Users/USER/Desktop/chromedriver.exe')"
   ]
  },
  {
   "cell_type": "code",
   "execution_count": null,
   "metadata": {},
   "outputs": [],
   "source": []
  },
  {
   "cell_type": "code",
   "execution_count": 7,
   "metadata": {},
   "outputs": [],
   "source": [
    "url = 'https://www.hdc-iparkmall.com/main/sub01_01.asp?page='"
   ]
  },
  {
   "cell_type": "code",
   "execution_count": 31,
   "metadata": {
    "scrolled": true
   },
   "outputs": [
    {
     "name": "stdout",
     "output_type": "stream",
     "text": [
      "[<selenium.webdriver.remote.webelement.WebElement (session=\"455661fb4390f832e35cb892cf72241b\", element=\"0.32961146417755893-1\")>, <selenium.webdriver.remote.webelement.WebElement (session=\"455661fb4390f832e35cb892cf72241b\", element=\"0.32961146417755893-2\")>, <selenium.webdriver.remote.webelement.WebElement (session=\"455661fb4390f832e35cb892cf72241b\", element=\"0.32961146417755893-3\")>, <selenium.webdriver.remote.webelement.WebElement (session=\"455661fb4390f832e35cb892cf72241b\", element=\"0.32961146417755893-4\")>, <selenium.webdriver.remote.webelement.WebElement (session=\"455661fb4390f832e35cb892cf72241b\", element=\"0.32961146417755893-5\")>, <selenium.webdriver.remote.webelement.WebElement (session=\"455661fb4390f832e35cb892cf72241b\", element=\"0.32961146417755893-6\")>, <selenium.webdriver.remote.webelement.WebElement (session=\"455661fb4390f832e35cb892cf72241b\", element=\"0.32961146417755893-7\")>, <selenium.webdriver.remote.webelement.WebElement (session=\"455661fb4390f832e35cb892cf72241b\", element=\"0.32961146417755893-8\")>, <selenium.webdriver.remote.webelement.WebElement (session=\"455661fb4390f832e35cb892cf72241b\", element=\"0.32961146417755893-9\")>, <selenium.webdriver.remote.webelement.WebElement (session=\"455661fb4390f832e35cb892cf72241b\", element=\"0.32961146417755893-10\")>, <selenium.webdriver.remote.webelement.WebElement (session=\"455661fb4390f832e35cb892cf72241b\", element=\"0.32961146417755893-11\")>, <selenium.webdriver.remote.webelement.WebElement (session=\"455661fb4390f832e35cb892cf72241b\", element=\"0.32961146417755893-12\")>, <selenium.webdriver.remote.webelement.WebElement (session=\"455661fb4390f832e35cb892cf72241b\", element=\"0.32961146417755893-13\")>, <selenium.webdriver.remote.webelement.WebElement (session=\"455661fb4390f832e35cb892cf72241b\", element=\"0.32961146417755893-14\")>, <selenium.webdriver.remote.webelement.WebElement (session=\"455661fb4390f832e35cb892cf72241b\", element=\"0.32961146417755893-15\")>, <selenium.webdriver.remote.webelement.WebElement (session=\"455661fb4390f832e35cb892cf72241b\", element=\"0.32961146417755893-16\")>, <selenium.webdriver.remote.webelement.WebElement (session=\"455661fb4390f832e35cb892cf72241b\", element=\"0.32961146417755893-17\")>, <selenium.webdriver.remote.webelement.WebElement (session=\"455661fb4390f832e35cb892cf72241b\", element=\"0.32961146417755893-18\")>, <selenium.webdriver.remote.webelement.WebElement (session=\"455661fb4390f832e35cb892cf72241b\", element=\"0.32961146417755893-19\")>, <selenium.webdriver.remote.webelement.WebElement (session=\"455661fb4390f832e35cb892cf72241b\", element=\"0.32961146417755893-20\")>]\n",
      "[<selenium.webdriver.remote.webelement.WebElement (session=\"455661fb4390f832e35cb892cf72241b\", element=\"0.4004164721090968-1\")>, <selenium.webdriver.remote.webelement.WebElement (session=\"455661fb4390f832e35cb892cf72241b\", element=\"0.4004164721090968-2\")>, <selenium.webdriver.remote.webelement.WebElement (session=\"455661fb4390f832e35cb892cf72241b\", element=\"0.4004164721090968-3\")>, <selenium.webdriver.remote.webelement.WebElement (session=\"455661fb4390f832e35cb892cf72241b\", element=\"0.4004164721090968-4\")>, <selenium.webdriver.remote.webelement.WebElement (session=\"455661fb4390f832e35cb892cf72241b\", element=\"0.4004164721090968-5\")>, <selenium.webdriver.remote.webelement.WebElement (session=\"455661fb4390f832e35cb892cf72241b\", element=\"0.4004164721090968-6\")>, <selenium.webdriver.remote.webelement.WebElement (session=\"455661fb4390f832e35cb892cf72241b\", element=\"0.4004164721090968-7\")>, <selenium.webdriver.remote.webelement.WebElement (session=\"455661fb4390f832e35cb892cf72241b\", element=\"0.4004164721090968-8\")>, <selenium.webdriver.remote.webelement.WebElement (session=\"455661fb4390f832e35cb892cf72241b\", element=\"0.4004164721090968-9\")>, <selenium.webdriver.remote.webelement.WebElement (session=\"455661fb4390f832e35cb892cf72241b\", element=\"0.4004164721090968-10\")>, <selenium.webdriver.remote.webelement.WebElement (session=\"455661fb4390f832e35cb892cf72241b\", element=\"0.4004164721090968-11\")>, <selenium.webdriver.remote.webelement.WebElement (session=\"455661fb4390f832e35cb892cf72241b\", element=\"0.4004164721090968-12\")>, <selenium.webdriver.remote.webelement.WebElement (session=\"455661fb4390f832e35cb892cf72241b\", element=\"0.4004164721090968-13\")>, <selenium.webdriver.remote.webelement.WebElement (session=\"455661fb4390f832e35cb892cf72241b\", element=\"0.4004164721090968-14\")>, <selenium.webdriver.remote.webelement.WebElement (session=\"455661fb4390f832e35cb892cf72241b\", element=\"0.4004164721090968-15\")>, <selenium.webdriver.remote.webelement.WebElement (session=\"455661fb4390f832e35cb892cf72241b\", element=\"0.4004164721090968-16\")>, <selenium.webdriver.remote.webelement.WebElement (session=\"455661fb4390f832e35cb892cf72241b\", element=\"0.4004164721090968-17\")>, <selenium.webdriver.remote.webelement.WebElement (session=\"455661fb4390f832e35cb892cf72241b\", element=\"0.4004164721090968-18\")>, <selenium.webdriver.remote.webelement.WebElement (session=\"455661fb4390f832e35cb892cf72241b\", element=\"0.4004164721090968-19\")>, <selenium.webdriver.remote.webelement.WebElement (session=\"455661fb4390f832e35cb892cf72241b\", element=\"0.4004164721090968-20\")>]\n"
     ]
    }
   ],
   "source": [
    "page = 1\n",
    "all_image = []\n",
    "while page < 3:\n",
    "    driver.get(url+str(page))\n",
    "    images = driver.find_elements_by_css_selector('.store_list > ul > li')\n",
    "    for image in images:\n",
    "        all_image.append(image.get_attribute(\"onclick\"))\n",
    "    page = page + 1"
   ]
  },
  {
   "cell_type": "code",
   "execution_count": 33,
   "metadata": {},
   "outputs": [],
   "source": [
    "import re"
   ]
  },
  {
   "cell_type": "code",
   "execution_count": 41,
   "metadata": {},
   "outputs": [],
   "source": [
    "all_image = [ image.replace(\"location.href='\",\"\") for image in all_image ]\n",
    "all_image = [ image.replace(\"';\\\"\",\"\") for image in all_image ]"
   ]
  },
  {
   "cell_type": "code",
   "execution_count": 42,
   "metadata": {
    "scrolled": true
   },
   "outputs": [
    {
     "name": "stdout",
     "output_type": "stream",
     "text": [
      "[\"sub01_01_view.asp?idx=1759&serstring=&sacate=';\", \"sub01_01_view.asp?idx=1749&serstring=&sacate=';\", \"sub01_01_view.asp?idx=1739&serstring=&sacate=';\", \"sub01_01_view.asp?idx=1735&serstring=&sacate=';\", \"sub01_01_view.asp?idx=1736&serstring=&sacate=';\", \"sub01_01_view.asp?idx=1755&serstring=&sacate=';\", \"sub01_01_view.asp?idx=1748&serstring=&sacate=';\", \"sub01_01_view.asp?idx=1770&serstring=&sacate=';\", \"sub01_01_view.asp?idx=1751&serstring=&sacate=';\", \"sub01_01_view.asp?idx=1763&serstring=&sacate=';\", \"sub01_01_view.asp?idx=1768&serstring=&sacate=';\", \"sub01_01_view.asp?idx=1753&serstring=&sacate=';\", \"sub01_01_view.asp?idx=1743&serstring=&sacate=';\", \"sub01_01_view.asp?idx=1765&serstring=&sacate=';\", \"sub01_01_view.asp?idx=1783&serstring=&sacate=';\", \"sub01_01_view.asp?idx=1738&serstring=&sacate=';\", \"sub01_01_view.asp?idx=1780&serstring=&sacate=';\", \"sub01_01_view.asp?idx=1776&serstring=&sacate=';\", \"sub01_01_view.asp?idx=1796&serstring=&sacate=';\", \"sub01_01_view.asp?idx=1761&serstring=&sacate=';\", \"sub01_01_view.asp?idx=1781&serstring=&sacate=';\", \"sub01_01_view.asp?idx=1766&serstring=&sacate=';\", \"sub01_01_view.asp?idx=1774&serstring=&sacate=';\", \"sub01_01_view.asp?idx=1816&serstring=&sacate=';\", \"sub01_01_view.asp?idx=1694&serstring=&sacate=';\", \"sub01_01_view.asp?idx=700&serstring=&sacate=';\", \"sub01_01_view.asp?idx=1876&serstring=&sacate=';\", \"sub01_01_view.asp?idx=683&serstring=&sacate=';\", \"sub01_01_view.asp?idx=1884&serstring=&sacate=';\", \"sub01_01_view.asp?idx=679&serstring=&sacate=';\", \"sub01_01_view.asp?idx=1882&serstring=&sacate=';\", \"sub01_01_view.asp?idx=1863&serstring=&sacate=';\", \"sub01_01_view.asp?idx=1660&serstring=&sacate=';\", \"sub01_01_view.asp?idx=1729&serstring=&sacate=';\", \"sub01_01_view.asp?idx=1845&serstring=&sacate=';\", \"sub01_01_view.asp?idx=624&serstring=&sacate=';\", \"sub01_01_view.asp?idx=151&serstring=&sacate=';\", \"sub01_01_view.asp?idx=522&serstring=&sacate=';\", \"sub01_01_view.asp?idx=567&serstring=&sacate=';\", \"sub01_01_view.asp?idx=212&serstring=&sacate=';\"]\n"
     ]
    }
   ],
   "source": [
    "print(all_image)"
   ]
  },
  {
   "cell_type": "code",
   "execution_count": 21,
   "metadata": {},
   "outputs": [
    {
     "ename": "StaleElementReferenceException",
     "evalue": "Message: stale element reference: element is not attached to the page document\n  (Session info: chrome=69.0.3497.100)\n  (Driver info: chromedriver=2.41.578737 (49da6702b16031c40d63e5618de03a32ff6c197e),platform=Windows NT 6.3.9600 x86_64)\n",
     "output_type": "error",
     "traceback": [
      "\u001b[1;31m---------------------------------------------------------------------------\u001b[0m",
      "\u001b[1;31mStaleElementReferenceException\u001b[0m            Traceback (most recent call last)",
      "\u001b[1;32m<ipython-input-21-38e4cacef348>\u001b[0m in \u001b[0;36m<module>\u001b[1;34m()\u001b[0m\n\u001b[0;32m      1\u001b[0m \u001b[1;32mfor\u001b[0m \u001b[0mimage\u001b[0m \u001b[1;32min\u001b[0m \u001b[0mall_image\u001b[0m\u001b[1;33m:\u001b[0m\u001b[1;33m\u001b[0m\u001b[0m\n\u001b[1;32m----> 2\u001b[1;33m     \u001b[0mimage\u001b[0m\u001b[1;33m.\u001b[0m\u001b[0mclick\u001b[0m\u001b[1;33m(\u001b[0m\u001b[1;33m)\u001b[0m\u001b[1;33m\u001b[0m\u001b[0m\n\u001b[0m\u001b[0;32m      3\u001b[0m     \u001b[0mprint\u001b[0m\u001b[1;33m(\u001b[0m\u001b[0mdriver\u001b[0m\u001b[1;33m.\u001b[0m\u001b[0mfind_elements_by_css_selector\u001b[0m\u001b[1;33m(\u001b[0m\u001b[1;34m'.store_name'\u001b[0m\u001b[1;33m)\u001b[0m\u001b[1;33m.\u001b[0m\u001b[0mtext\u001b[0m\u001b[1;33m)\u001b[0m\u001b[1;33m\u001b[0m\u001b[0m\n",
      "\u001b[1;32m~\\Anaconda3\\lib\\site-packages\\selenium\\webdriver\\remote\\webelement.py\u001b[0m in \u001b[0;36mclick\u001b[1;34m(self)\u001b[0m\n\u001b[0;32m     78\u001b[0m     \u001b[1;32mdef\u001b[0m \u001b[0mclick\u001b[0m\u001b[1;33m(\u001b[0m\u001b[0mself\u001b[0m\u001b[1;33m)\u001b[0m\u001b[1;33m:\u001b[0m\u001b[1;33m\u001b[0m\u001b[0m\n\u001b[0;32m     79\u001b[0m         \u001b[1;34m\"\"\"Clicks the element.\"\"\"\u001b[0m\u001b[1;33m\u001b[0m\u001b[0m\n\u001b[1;32m---> 80\u001b[1;33m         \u001b[0mself\u001b[0m\u001b[1;33m.\u001b[0m\u001b[0m_execute\u001b[0m\u001b[1;33m(\u001b[0m\u001b[0mCommand\u001b[0m\u001b[1;33m.\u001b[0m\u001b[0mCLICK_ELEMENT\u001b[0m\u001b[1;33m)\u001b[0m\u001b[1;33m\u001b[0m\u001b[0m\n\u001b[0m\u001b[0;32m     81\u001b[0m \u001b[1;33m\u001b[0m\u001b[0m\n\u001b[0;32m     82\u001b[0m     \u001b[1;32mdef\u001b[0m \u001b[0msubmit\u001b[0m\u001b[1;33m(\u001b[0m\u001b[0mself\u001b[0m\u001b[1;33m)\u001b[0m\u001b[1;33m:\u001b[0m\u001b[1;33m\u001b[0m\u001b[0m\n",
      "\u001b[1;32m~\\Anaconda3\\lib\\site-packages\\selenium\\webdriver\\remote\\webelement.py\u001b[0m in \u001b[0;36m_execute\u001b[1;34m(self, command, params)\u001b[0m\n\u001b[0;32m    631\u001b[0m             \u001b[0mparams\u001b[0m \u001b[1;33m=\u001b[0m \u001b[1;33m{\u001b[0m\u001b[1;33m}\u001b[0m\u001b[1;33m\u001b[0m\u001b[0m\n\u001b[0;32m    632\u001b[0m         \u001b[0mparams\u001b[0m\u001b[1;33m[\u001b[0m\u001b[1;34m'id'\u001b[0m\u001b[1;33m]\u001b[0m \u001b[1;33m=\u001b[0m \u001b[0mself\u001b[0m\u001b[1;33m.\u001b[0m\u001b[0m_id\u001b[0m\u001b[1;33m\u001b[0m\u001b[0m\n\u001b[1;32m--> 633\u001b[1;33m         \u001b[1;32mreturn\u001b[0m \u001b[0mself\u001b[0m\u001b[1;33m.\u001b[0m\u001b[0m_parent\u001b[0m\u001b[1;33m.\u001b[0m\u001b[0mexecute\u001b[0m\u001b[1;33m(\u001b[0m\u001b[0mcommand\u001b[0m\u001b[1;33m,\u001b[0m \u001b[0mparams\u001b[0m\u001b[1;33m)\u001b[0m\u001b[1;33m\u001b[0m\u001b[0m\n\u001b[0m\u001b[0;32m    634\u001b[0m \u001b[1;33m\u001b[0m\u001b[0m\n\u001b[0;32m    635\u001b[0m     \u001b[1;32mdef\u001b[0m \u001b[0mfind_element\u001b[0m\u001b[1;33m(\u001b[0m\u001b[0mself\u001b[0m\u001b[1;33m,\u001b[0m \u001b[0mby\u001b[0m\u001b[1;33m=\u001b[0m\u001b[0mBy\u001b[0m\u001b[1;33m.\u001b[0m\u001b[0mID\u001b[0m\u001b[1;33m,\u001b[0m \u001b[0mvalue\u001b[0m\u001b[1;33m=\u001b[0m\u001b[1;32mNone\u001b[0m\u001b[1;33m)\u001b[0m\u001b[1;33m:\u001b[0m\u001b[1;33m\u001b[0m\u001b[0m\n",
      "\u001b[1;32m~\\Anaconda3\\lib\\site-packages\\selenium\\webdriver\\remote\\webdriver.py\u001b[0m in \u001b[0;36mexecute\u001b[1;34m(self, driver_command, params)\u001b[0m\n\u001b[0;32m    319\u001b[0m         \u001b[0mresponse\u001b[0m \u001b[1;33m=\u001b[0m \u001b[0mself\u001b[0m\u001b[1;33m.\u001b[0m\u001b[0mcommand_executor\u001b[0m\u001b[1;33m.\u001b[0m\u001b[0mexecute\u001b[0m\u001b[1;33m(\u001b[0m\u001b[0mdriver_command\u001b[0m\u001b[1;33m,\u001b[0m \u001b[0mparams\u001b[0m\u001b[1;33m)\u001b[0m\u001b[1;33m\u001b[0m\u001b[0m\n\u001b[0;32m    320\u001b[0m         \u001b[1;32mif\u001b[0m \u001b[0mresponse\u001b[0m\u001b[1;33m:\u001b[0m\u001b[1;33m\u001b[0m\u001b[0m\n\u001b[1;32m--> 321\u001b[1;33m             \u001b[0mself\u001b[0m\u001b[1;33m.\u001b[0m\u001b[0merror_handler\u001b[0m\u001b[1;33m.\u001b[0m\u001b[0mcheck_response\u001b[0m\u001b[1;33m(\u001b[0m\u001b[0mresponse\u001b[0m\u001b[1;33m)\u001b[0m\u001b[1;33m\u001b[0m\u001b[0m\n\u001b[0m\u001b[0;32m    322\u001b[0m             response['value'] = self._unwrap_value(\n\u001b[0;32m    323\u001b[0m                 response.get('value', None))\n",
      "\u001b[1;32m~\\Anaconda3\\lib\\site-packages\\selenium\\webdriver\\remote\\errorhandler.py\u001b[0m in \u001b[0;36mcheck_response\u001b[1;34m(self, response)\u001b[0m\n\u001b[0;32m    240\u001b[0m                 \u001b[0malert_text\u001b[0m \u001b[1;33m=\u001b[0m \u001b[0mvalue\u001b[0m\u001b[1;33m[\u001b[0m\u001b[1;34m'alert'\u001b[0m\u001b[1;33m]\u001b[0m\u001b[1;33m.\u001b[0m\u001b[0mget\u001b[0m\u001b[1;33m(\u001b[0m\u001b[1;34m'text'\u001b[0m\u001b[1;33m)\u001b[0m\u001b[1;33m\u001b[0m\u001b[0m\n\u001b[0;32m    241\u001b[0m             \u001b[1;32mraise\u001b[0m \u001b[0mexception_class\u001b[0m\u001b[1;33m(\u001b[0m\u001b[0mmessage\u001b[0m\u001b[1;33m,\u001b[0m \u001b[0mscreen\u001b[0m\u001b[1;33m,\u001b[0m \u001b[0mstacktrace\u001b[0m\u001b[1;33m,\u001b[0m \u001b[0malert_text\u001b[0m\u001b[1;33m)\u001b[0m\u001b[1;33m\u001b[0m\u001b[0m\n\u001b[1;32m--> 242\u001b[1;33m         \u001b[1;32mraise\u001b[0m \u001b[0mexception_class\u001b[0m\u001b[1;33m(\u001b[0m\u001b[0mmessage\u001b[0m\u001b[1;33m,\u001b[0m \u001b[0mscreen\u001b[0m\u001b[1;33m,\u001b[0m \u001b[0mstacktrace\u001b[0m\u001b[1;33m)\u001b[0m\u001b[1;33m\u001b[0m\u001b[0m\n\u001b[0m\u001b[0;32m    243\u001b[0m \u001b[1;33m\u001b[0m\u001b[0m\n\u001b[0;32m    244\u001b[0m     \u001b[1;32mdef\u001b[0m \u001b[0m_value_or_default\u001b[0m\u001b[1;33m(\u001b[0m\u001b[0mself\u001b[0m\u001b[1;33m,\u001b[0m \u001b[0mobj\u001b[0m\u001b[1;33m,\u001b[0m \u001b[0mkey\u001b[0m\u001b[1;33m,\u001b[0m \u001b[0mdefault\u001b[0m\u001b[1;33m)\u001b[0m\u001b[1;33m:\u001b[0m\u001b[1;33m\u001b[0m\u001b[0m\n",
      "\u001b[1;31mStaleElementReferenceException\u001b[0m: Message: stale element reference: element is not attached to the page document\n  (Session info: chrome=69.0.3497.100)\n  (Driver info: chromedriver=2.41.578737 (49da6702b16031c40d63e5618de03a32ff6c197e),platform=Windows NT 6.3.9600 x86_64)\n"
     ]
    }
   ],
   "source": [
    "for image in all_image:\n",
    "    image.click()\n",
    "    print(driver.find_elements_by_css_selector('.store_name').text)"
   ]
  },
  {
   "cell_type": "code",
   "execution_count": null,
   "metadata": {},
   "outputs": [],
   "source": []
  }
 ],
 "metadata": {
  "kernelspec": {
   "display_name": "Python 3",
   "language": "python",
   "name": "python3"
  },
  "language_info": {
   "codemirror_mode": {
    "name": "ipython",
    "version": 3
   },
   "file_extension": ".py",
   "mimetype": "text/x-python",
   "name": "python",
   "nbconvert_exporter": "python",
   "pygments_lexer": "ipython3",
   "version": "3.6.5"
  }
 },
 "nbformat": 4,
 "nbformat_minor": 2
}
